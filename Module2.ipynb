{
 "cells": [
  {
   "cell_type": "code",
   "execution_count": 4,
   "id": "486ad68e",
   "metadata": {},
   "outputs": [
    {
     "name": "stdout",
     "output_type": "stream",
     "text": [
      "Too High\n"
     ]
    }
   ],
   "source": [
    "secret = 3\n",
    "guess = 8\n",
    "if secret > guess:\n",
    "    print (\"Too Low\")\n",
    "else:\n",
    "    if secret < guess:\n",
    "        print (\"Too High\")\n",
    "    elif secret == guess:\n",
    "        print (\"Just Right\")"
   ]
  },
  {
   "cell_type": "code",
   "execution_count": 6,
   "id": "373097de",
   "metadata": {},
   "outputs": [
    {
     "name": "stdout",
     "output_type": "stream",
     "text": [
      "cheery\n"
     ]
    }
   ],
   "source": [
    "small = True \n",
    "green = False\n",
    "if small:\n",
    "    if green:\n",
    "        print(\"Pea\")\n",
    "    else:\n",
    "        print(\"cheery\")\n",
    "else:\n",
    "        if green:\n",
    "            print(\"watermelon\")\n",
    "        else:\n",
    "            print(\"Pumpkin\")"
   ]
  },
  {
   "cell_type": "code",
   "execution_count": 7,
   "id": "39cc0058",
   "metadata": {},
   "outputs": [
    {
     "name": "stdout",
     "output_type": "stream",
     "text": [
      "0\n",
      "1\n",
      "2\n",
      "3\n"
     ]
    }
   ],
   "source": [
    "numbers = {3, 2, 1, 0}\n",
    "for num in numbers:\n",
    "    print(num)"
   ]
  },
  {
   "cell_type": "code",
   "execution_count": null,
   "id": "dc7224bf",
   "metadata": {},
   "outputs": [],
   "source": [
    "guess_me = 7\n",
    "number = 1\n",
    "while True:\n",
    "    if number < guess_me:\n",
    "        print (\"Too Low\")\n",
    "    elif number == guess_me:\n",
    "        print (\"Found it!\")\n",
    "        break\n",
    "    else: \n",
    "            print(\"Oops\")\n",
    "            break\n",
    "            number += 1"
   ]
  },
  {
   "cell_type": "code",
   "execution_count": null,
   "id": "6ba722e6",
   "metadata": {},
   "outputs": [],
   "source": [
    "guess_me = 5\n",
    "for number in range(10):\n",
    "    if number < guess_me\n",
    "    print(\"Too low\")\n",
    "elif number == guess_me:\n",
    "    print(\"found it!\")\n",
    "    break\n",
    "else: \n",
    "    print(\"Oops\")\n",
    "    break"
   ]
  },
  {
   "cell_type": "code",
   "execution_count": null,
   "id": "1d5c7ffb",
   "metadata": {},
   "outputs": [],
   "source": []
  },
  {
   "cell_type": "code",
   "execution_count": null,
   "id": "d9620687",
   "metadata": {},
   "outputs": [],
   "source": []
  },
  {
   "cell_type": "code",
   "execution_count": null,
   "id": "d5409a48",
   "metadata": {},
   "outputs": [],
   "source": []
  }
 ],
 "metadata": {
  "kernelspec": {
   "display_name": "Python 3 (ipykernel)",
   "language": "python",
   "name": "python3"
  },
  "language_info": {
   "codemirror_mode": {
    "name": "ipython",
    "version": 3
   },
   "file_extension": ".py",
   "mimetype": "text/x-python",
   "name": "python",
   "nbconvert_exporter": "python",
   "pygments_lexer": "ipython3",
   "version": "3.11.2"
  }
 },
 "nbformat": 4,
 "nbformat_minor": 5
}
